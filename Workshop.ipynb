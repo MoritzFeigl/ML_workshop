{
 "cells": [
  {
   "cell_type": "markdown",
   "id": "9d8e0ef5",
   "metadata": {},
   "source": [
    "<img style=\"float: right;\" src=\"Abb/baseflow_txt1.png\" alt=\"baseflow\" width=\"200\"/>\n",
    "\n",
    "# Machine Learning (in der Hydrologie)  \n",
    "Workshop 5. Juli, 2022"
   ]
  },
  {
   "cell_type": "markdown",
   "id": "e1608022",
   "metadata": {},
   "source": [
    "## Problemstellung & Übersicht"
   ]
  },
  {
   "cell_type": "markdown",
   "id": "07ad2e8f",
   "metadata": {},
   "source": [
    "\n",
    "### Ziel: Vorhersage der mittleren täglichen Flusswassertemperatur der Aschach\n",
    "\n"
   ]
  },
  {
   "cell_type": "markdown",
   "id": "df5cd091",
   "metadata": {},
   "source": [
    "![Übersicht Aschach Einzugsgebiet (Nr. 2)](Abb/catchment.png)\n",
    "*Übersicht Aschach Einzugsgebiet (Nr. 2)*"
   ]
  },
  {
   "cell_type": "markdown",
   "id": "fa340da6",
   "metadata": {},
   "source": [
    "![Übersicht Aschach Einzugsgebiet (Nr. 2)](Abb/catchment_info.png)\n",
    "*Einzugsgebiet Eigenschaften*"
   ]
  },
  {
   "cell_type": "markdown",
   "id": "681ceba0",
   "metadata": {},
   "source": [
    "### To do:\n",
    "\n",
    "Beantworte folgende Fragen um die Motivation zu verstehen:\n",
    "1. **Welchen Ökologischen effekt haben (hohe) Flusswassertemperaturen?**\n",
    "2. **Für wen ist die Vorhersage wichtige?**\n",
    "3. **Wann treten sehr hohe Wassertemperaturen auf?**"
   ]
  },
  {
   "cell_type": "markdown",
   "id": "07734819",
   "metadata": {},
   "source": [
    "## 1. Daten"
   ]
  },
  {
   "cell_type": "code",
   "execution_count": null,
   "id": "9f0e7502",
   "metadata": {},
   "outputs": [],
   "source": [
    "import pandas as pd\n",
    "import numpy as np\n",
    "import matplotlib.pyplot as plt\n",
    "import seaborn as sns\n",
    "from sklearn.ensemble import RandomForestRegressor\n",
    "from sklearn.model_selection import cross_val_score\n",
    "from sklearn import linear_model\n",
    "import timeit"
   ]
  },
  {
   "cell_type": "code",
   "execution_count": null,
   "id": "723249b5",
   "metadata": {},
   "outputs": [],
   "source": [
    "# Daten laden und anschauen\n",
    "data = pd.read_csv(\"Aschach_data.csv\")\n",
    "data.head()"
   ]
  },
  {
   "cell_type": "code",
   "execution_count": null,
   "id": "842eabb5",
   "metadata": {},
   "outputs": [],
   "source": [
    "# Datum Spalte in index umwandeln und entfernen\n",
    "data.index = pd.to_datetime(data.date, format = \"%Y-%m-%d\")\n",
    "data = data.drop(columns = \"date\")"
   ]
  },
  {
   "cell_type": "code",
   "execution_count": null,
   "id": "b2eac8ac",
   "metadata": {},
   "outputs": [],
   "source": [
    "# Wie lang ist die Zeitreihe?\n",
    "jahre = data.index.year.unique().tolist()\n",
    "print(f\"Die Daten beinhalten die Jahre {', '.join([str(x) for x in [*jahre]])}\")"
   ]
  },
  {
   "cell_type": "markdown",
   "id": "295e487e",
   "metadata": {},
   "source": [
    "## 2. Explorative data analysis (EDA)"
   ]
  },
  {
   "cell_type": "markdown",
   "id": "3d991e34",
   "metadata": {},
   "source": [
    "Zuerst ist es wichtig die Daten und die Zusammenhänge zu verstehen. Wa sind das für Daten? Woher kommen sie, was bilden sie ab bzw. welches Gebiet repräsentieren sie? In diesem Abschnitt werden wir Hypothesen generieren, welche uns beim Modellieren helfen werden."
   ]
  },
  {
   "cell_type": "code",
   "execution_count": null,
   "id": "555a9150",
   "metadata": {},
   "outputs": [],
   "source": [
    "# Daten-Struktur\n",
    "data.head()"
   ]
  },
  {
   "cell_type": "markdown",
   "id": "911d8dc5",
   "metadata": {},
   "source": [
    "Beschreibung der Variablen:</br>\n",
    "**wt**: tägl. mittl. Wassertemperatur in °C</br>\n",
    "**Q**: tägl. mittl. Abfluss in m³/s</br>\n",
    "**P**: tägl. Niederschlagssumme in mm</br>\n",
    "**GL**: tägl. mittl. Kurzwellenstrahlung W/m²</br>\n",
    "**Ta_min**: tägl. Minimum der Lufttemperatur in °C</br>\n",
    "**Ta_max**: tägl. Maximum der Lufttemperatur in °C</br>\n",
    "**Ta**: tägl. mittl. Lufttemperatur in °C\n",
    "\n",
    "a) wt und Q wurden am Gebietsauslass gemessen. Messpunkte liegen nach rauen Rampen, daher kann eine vollständige Durchmischung angenommen werden.\n",
    "\n",
    "b) P, Ta_min, Ta_max & Ta sind über das Einzugsgebiet gemittelte Werte basierend auf einem 1x1 km Raster des SPARTACUS Datensatzes (ZAMG, https://www.zamg.ac.at/cms/de/forschung/klima/klimatografien/spartacus)\n",
    "\n",
    "c) GL sind über das Einzugsgebiet gemittelte Werte basierend auf einem 1x1 km Raster des INCA Datensatzes (ZAMG, https://www.zamg.ac.at/cms/de/forschung/wetter/inca)"
   ]
  },
  {
   "cell_type": "markdown",
   "id": "6d17cde2",
   "metadata": {},
   "source": [
    "### To do:\n",
    "\n",
    "Schau dir die Daten mal genau an. Code Beispiele dafür findest du unten. </p> Versuche folgende Fragen zu beanworten:\n",
    "1. Welche Variablen haben potenziell den größten Einfluss auf wt?\n",
    "2. Reichen die vorhandenen Variablen aus um wt über das Jahr gut vorherzusagen, oder gibt es andere Einflussgrößen die wir berechnen könnten?\n",
    "3. Brauchen wir Informationen der letzten Tage (lags) um wt vorherzusagen?"
   ]
  },
  {
   "cell_type": "markdown",
   "id": "e3343d8e",
   "metadata": {},
   "source": [
    "### 2.1 EDA Plots"
   ]
  },
  {
   "cell_type": "markdown",
   "id": "3d028519",
   "metadata": {},
   "source": [
    "Die folgenden Beispiel Codes können leicht angepast werden. Ihr müsst nur jeweils die Variablen (*var*), und/oder den lag (*lag*) auf die gewünschten Werte ändern, welche von Interesse sind. "
   ]
  },
  {
   "cell_type": "code",
   "execution_count": null,
   "id": "03bb05c8",
   "metadata": {},
   "outputs": [],
   "source": [
    "# Plotte die Zeitreihe(n) einer oder mehrerer Variablen\n",
    "\n",
    "# Input\n",
    "var = [\"wt\"] # Beispiele für meherere Variablen [\"Q\", \"Ta\", \"wt\"]\n",
    "\n",
    "# Code\n",
    "plt.figure(figsize=(15,6))\n",
    "sns.lineplot(data = data[var])\n",
    "plt.show()"
   ]
  },
  {
   "cell_type": "code",
   "execution_count": null,
   "id": "c31fd00b",
   "metadata": {},
   "outputs": [],
   "source": [
    "# Plotte zwei Variablen zusammen in einen Scatterplot\n",
    "\n",
    "# Inputs\n",
    "var1 = \"wt\"\n",
    "var2 = \"GL\"\n",
    "\n",
    "# Code\n",
    "plt.figure(figsize=(7,7))\n",
    "sns.scatterplot(x=data[var1], y=data[var2])\n",
    "plt.show()"
   ]
  },
  {
   "cell_type": "code",
   "execution_count": null,
   "id": "18a058b6",
   "metadata": {},
   "outputs": [],
   "source": [
    "# Plotte wt vs. lagged variables \n",
    "# lagged variable = Werte der vorhergehenden Zeitschritte, z.B. Qlag1 ist der Abfluss vom vorherigen Tag\n",
    "\n",
    "# Inputs\n",
    "var = \"Ta_max\"\n",
    "lag = 8\n",
    "\n",
    "# Code\n",
    "lagged_var = pd.concat([pd.Series([np.NaN for i in range(lag+1)]), data[var].iloc[:-(lag+1)]])\n",
    "lagged_var.index = data[var].index\n",
    "lagged_var.name = f\"{var}_lag{lag}\"\n",
    "lagged_var.head()\n",
    "plt.figure(figsize=(7,7))\n",
    "sns.scatterplot(x=data.wt, y=lagged_var)\n",
    "plt.show()"
   ]
  },
  {
   "cell_type": "code",
   "execution_count": null,
   "id": "72d6c805",
   "metadata": {},
   "outputs": [],
   "source": [
    "# Plotte die Korrelation aller Variablen\n",
    "# Hier gibt es nichts zum Anpassen --> mach dir ein Bild von den (linearen-) Zusammenhängen zwischen den Variablen\n",
    "corr = data.corr()\n",
    "plt.figure(figsize=(9,6))\n",
    "sns.heatmap(corr, cmap=sns.diverging_palette(230, 20, as_cmap=True), vmin=-1, vmax=1, annot=True)\n",
    "plt.show()"
   ]
  },
  {
   "cell_type": "markdown",
   "id": "c9599e79",
   "metadata": {},
   "source": [
    "## 3. Daten pre-processing / feature engineering"
   ]
  },
  {
   "cell_type": "markdown",
   "id": "4ea5d7b0",
   "metadata": {},
   "source": [
    "Um die relevanten Informationen für die Vorhersage zu verwenden, werden wir neue Features (Variablen) erzeugen!"
   ]
  },
  {
   "cell_type": "markdown",
   "id": "68e3b5b4",
   "metadata": {},
   "source": [
    "### 3.1 Lag Variablen"
   ]
  },
  {
   "cell_type": "code",
   "execution_count": null,
   "id": "df5c4b5e",
   "metadata": {},
   "outputs": [],
   "source": [
    "def create_lags(df, columns, lags):\n",
    "    \"\"\"\n",
    "    Erstellt data frame mit zusätzlich lagged Versionen ausgewählter Spalten des data frames.\n",
    "    Arguments:\n",
    "        df: data frame\n",
    "        columns: Liste mit strings der Spaltennamen\n",
    "        lags: integer, Anzahl der lags\n",
    "    Return:\n",
    "        Einen data frame bestehend aus dem Input data frame mit zusätzlichen Spalten für die lagged Variablen.\n",
    "    \"\"\"\n",
    "    lagged_cols = []\n",
    "    for var in columns:\n",
    "        for i in range(lags):\n",
    "            lagged_var = pd.concat([pd.Series([np.NaN for lag in range(i+1)]), df[var].iloc[:-(i+1)]])\n",
    "            lagged_var.index = df[var].index\n",
    "            lagged_var.name = f\"{var}_lag{i+1}\"\n",
    "            lagged_cols.append(lagged_var)\n",
    "    var_lags = pd.concat(lagged_cols, axis=1)\n",
    "    return pd.concat([df, var_lags], axis=1)"
   ]
  },
  {
   "cell_type": "markdown",
   "id": "80d63224",
   "metadata": {},
   "source": [
    "### To do:\n",
    "Wähle eine Anzahl an lags (lag=1 bedeutet, dass die Variablen des Vortages zusätzlich verwendet werden). "
   ]
  },
  {
   "cell_type": "code",
   "execution_count": null,
   "id": "ffcd95fd",
   "metadata": {},
   "outputs": [],
   "source": [
    "# Erzeuge lag Variablen\n",
    "\n",
    "# Inputs\n",
    "n_lags = 3\n",
    "\n",
    "# Code\n",
    "lagged_cols = [col for col in data.columns if col != \"wt\"]\n",
    "data_pp = create_lags(df=data, columns=lagged_cols, lags=n_lags)"
   ]
  },
  {
   "cell_type": "code",
   "execution_count": null,
   "id": "56145214",
   "metadata": {},
   "outputs": [],
   "source": [
    "# Zeilen mit NaNs entfernen\n",
    "data_pp.dropna(inplace=True)"
   ]
  },
  {
   "cell_type": "markdown",
   "id": "ee4976c2",
   "metadata": {},
   "source": [
    "### 3.2 Zeit-Information"
   ]
  },
  {
   "cell_type": "markdown",
   "id": "f5ff4ed2",
   "metadata": {},
   "source": [
    "**Problem:** Zeit Variablen sind zyklisch --> 1. Tag und 365. Tag im Jahr sind nahezu ident."
   ]
  },
  {
   "cell_type": "markdown",
   "id": "63999459",
   "metadata": {},
   "source": [
    "Wie können wir aus den zyklischen Variablen der Zeit (Tage des Jahres, Monate, Tage im Monat) eine kontinuierliche Zeit-Variable erzeugen?\n",
    "\n",
    "&rarr; **Sinus/Consinus Transformation**"
   ]
  },
  {
   "cell_type": "markdown",
   "id": "8465a550",
   "metadata": {},
   "source": [
    "![Alt Text](Abb/sine_2.gif)\n",
    "*Sinus Transformation einer Zyklischen Variable*"
   ]
  },
  {
   "cell_type": "markdown",
   "id": "9e217670",
   "metadata": {},
   "source": [
    "![Alt Text](Abb/cosine_2.gif)\n",
    "*Cosinus Transformation einer Zyklischen Variable*"
   ]
  },
  {
   "cell_type": "code",
   "execution_count": null,
   "id": "e2380ac0",
   "metadata": {},
   "outputs": [],
   "source": [
    "data_pp['sin_time'] = np.sin(2*np.pi*data_pp.index.dayofyear/data_pp.index.dayofyear.max())\n",
    "data_pp['cos_time'] = np.cos(2*np.pi*data_pp.index.dayofyear/data_pp.index.dayofyear.max())"
   ]
  },
  {
   "cell_type": "code",
   "execution_count": null,
   "id": "ea875f18",
   "metadata": {},
   "outputs": [],
   "source": [
    "# Plotte die Zeitreihe(n) einer oder mehrerer Variablen\n",
    "var = [\"sin_time\", \"cos_time\"]\n",
    "sns.set_style(\"whitegrid\")\n",
    "plt.figure(figsize=(15,6))\n",
    "sns.lineplot(data = data_pp[var])\n",
    "plt.show()"
   ]
  },
  {
   "cell_type": "code",
   "execution_count": null,
   "id": "86d2a96e",
   "metadata": {},
   "outputs": [],
   "source": [
    "data_pp.head()"
   ]
  },
  {
   "cell_type": "markdown",
   "id": "04c73d0c",
   "metadata": {},
   "source": [
    "## 4. Data Splits (+Präsentation)"
   ]
  },
  {
   "cell_type": "markdown",
   "id": "06d40c10",
   "metadata": {},
   "source": [
    "Unabhängige Test Daten und Cross Validierung"
   ]
  },
  {
   "cell_type": "code",
   "execution_count": null,
   "id": "2992cf3c",
   "metadata": {},
   "outputs": [],
   "source": [
    "# Train/Test split\n",
    "test_period = [2013, 2014, 2015]\n",
    "train_data = data_pp.loc[~data_pp.index.year.isin(test_period)]\n",
    "test_data = data_pp.loc[data_pp.index.year.isin(test_period)]\n",
    "\n",
    "print(f\"Training samples: {train_data.shape[0]} Tage\\nTest samples: {test_data.shape[0]} Tage\")"
   ]
  },
  {
   "cell_type": "code",
   "execution_count": null,
   "id": "89c3c7f4",
   "metadata": {},
   "outputs": [],
   "source": [
    "# Aufspalten in Inputs (x) und Outputs (y)\n",
    "x_train = train_data.loc[:, train_data.columns != \"wt\"]\n",
    "y_train = train_data.wt\n",
    "x_test = test_data.loc[:, test_data.columns != \"wt\"]\n",
    "y_test = test_data.wt"
   ]
  },
  {
   "cell_type": "code",
   "execution_count": null,
   "id": "7a2f1132",
   "metadata": {},
   "outputs": [],
   "source": [
    "# Plotte Training & Test Split\n",
    "sns.set_style(\"whitegrid\")\n",
    "plt.figure(figsize=(15,7))\n",
    "plt.title(\"Mittlere tägliche Wassertemperatur der Aschach\")\n",
    "plt.plot(train_data.index, train_data.wt, color='#379BDB', label='Training')\n",
    "plt.plot(test_data.index, test_data.wt, color='#fc7d0b', label='Test')\n",
    "plt.xlabel('')\n",
    "plt.ylabel('Wassertemperatur [°C]')\n",
    "plt.legend()\n",
    "plt.show(block=False)"
   ]
  },
  {
   "cell_type": "markdown",
   "id": "0c96d758",
   "metadata": {},
   "source": [
    "## 5. Baseline Modell"
   ]
  },
  {
   "cell_type": "markdown",
   "id": "c497d75b",
   "metadata": {},
   "source": [
    "Warum brauchen wir eine Baseline? --> no free lunch theorem"
   ]
  },
  {
   "cell_type": "markdown",
   "id": "274e1eae",
   "metadata": {},
   "source": [
    "**Baseline Modell:** Multiple Lineare Regression mit Daten ohne lags."
   ]
  },
  {
   "cell_type": "code",
   "execution_count": null,
   "id": "b8f31369",
   "metadata": {},
   "outputs": [],
   "source": [
    "# Lineares Modell mit 10-facher CV\n",
    "start = timeit.default_timer()\n",
    "x_baseline = x_train.filter(items=data.columns)\n",
    "baseline_model = linear_model.LinearRegression()\n",
    "baseline_scores = cross_val_score(baseline_model, x_train.filter(items=data.columns), y_train, \n",
    "                                  scoring='neg_root_mean_squared_error', cv=10, n_jobs=-1)\n",
    "end = timeit.default_timer()\n",
    "\n",
    "# Model performance\n",
    "print(f\"RMSE: {-np.mean(baseline_scores):.3f} ({np.std(-baseline_scores):.3f})\")\n",
    "#print(end - start)\n",
    "print(f\"Laufzeit: {end - start:.2f} Sekunden\")"
   ]
  },
  {
   "cell_type": "code",
   "execution_count": null,
   "id": "9dcd2e3f",
   "metadata": {},
   "outputs": [],
   "source": [
    "# Definiere Gütemaße\n",
    "def RMSE(x, y):\n",
    "     return round(((x - y) ** 2).mean() ** .5, 3)\n",
    "    \n",
    "def MAE(x, y):\n",
    "    return round((x-y).abs().mean(), 3)\n",
    "\n",
    "def print_results(x, y, name):\n",
    "    print(f\"{name} RMSE = {RMSE(x, y)} °C\\n{name} MAE = {MAE(x, y)} °C\")"
   ]
  },
  {
   "cell_type": "markdown",
   "id": "354d0f5a",
   "metadata": {},
   "source": [
    "Gütemaße:\n",
    "$$RMSE = \\sqrt{\\sum_{i=1}^{N}(x_i-y_i)^2}$$\n",
    "$$MAE = \\frac{1}{n} {\\sum_{i=1}^{N}|x_i-y_i|}$$"
   ]
  },
  {
   "cell_type": "code",
   "execution_count": null,
   "id": "d124b03c",
   "metadata": {},
   "outputs": [],
   "source": [
    "# Erzeuge Baseline Vorhersage der Test Daten\n",
    "baseline_model.fit(x_train.filter(items=data.columns), y_train)\n",
    "baseline_prediction = baseline_model.predict(x_test.filter(items=data.columns))\n",
    "baseline_prediction_df = pd.DataFrame({\"prediction\": baseline_prediction})\n",
    "baseline_prediction_df.index = test_data.index"
   ]
  },
  {
   "cell_type": "code",
   "execution_count": null,
   "id": "0b54e92f",
   "metadata": {},
   "outputs": [],
   "source": [
    "# Plotte Baseline Vorhersage\n",
    "sns.set_style(\"whitegrid\")\n",
    "plt.figure(figsize=(15,7))\n",
    "plt.title(\"Mittlere tägliche Wassertemperatur der Aschach\")\n",
    "plt.plot(test_data.index, test_data.wt, color= '#379BDB', label='Beobachtung')\n",
    "plt.plot(baseline_prediction_df.index, baseline_prediction_df.prediction, color='#fc7d0b', label='Baseline Modell')\n",
    "plt.xlabel('')\n",
    "plt.ylabel('Wassertemperatur [°C]')\n",
    "plt.legend()\n",
    "plt.show(block=False)"
   ]
  },
  {
   "cell_type": "code",
   "execution_count": null,
   "id": "bc30800f",
   "metadata": {},
   "outputs": [],
   "source": [
    "print_results(test_data.wt, baseline_prediction, \"Baseline\")"
   ]
  },
  {
   "cell_type": "markdown",
   "id": "2580e3e1",
   "metadata": {},
   "source": [
    "## 6. Machine Learning Modell (+Präsentation)"
   ]
  },
  {
   "cell_type": "markdown",
   "id": "d12a29d9",
   "metadata": {},
   "source": [
    "### 6.1 Hyperparameter Auswahl"
   ]
  },
  {
   "cell_type": "markdown",
   "id": "d8123662",
   "metadata": {},
   "source": [
    "gewähltes Modell: **Random Forest**\n",
    "\n",
    "### To do:\n",
    "Probiere unterschiedliche Hyperparameter aus und versuche die beste Kombination zu finden!\n",
    "Genauere Beschreibung der Parameter von Random Forest findest du auf https://scikit-learn.org/stable/modules/generated/sklearn.ensemble.RandomForestRegressor.html"
   ]
  },
  {
   "cell_type": "markdown",
   "id": "dd0aef69",
   "metadata": {},
   "source": [
    "Definiere zunächst die Hyperparameter:"
   ]
  },
  {
   "cell_type": "code",
   "execution_count": null,
   "id": "c5361d58",
   "metadata": {},
   "outputs": [],
   "source": [
    "# Hyperparameter\n",
    "hyperpara = {\"n_estimators\": 100,    # default=100, Anzahl der Regressionsbäume\n",
    "             \"max_depth\": 4,      # default=None, Tiefe des Baums, bei None werden Bäume so lange expandiert bis \"min_samples_split\" erreicht ist\n",
    "             \"min_samples_split\": 2, # default=2, Minimum samples um eine node zu spalten (muss > 1 sein)\n",
    "             \"min_samples_leaf\": 1,  # default=1, Mindestanzahl an samples für einen node\n",
    "             \"max_features\": 1.0,    # default=1.0, Anzahl an features für split, default=1.0 (100% aller Variablen werden verwendet)\n",
    "            }"
   ]
  },
  {
   "cell_type": "markdown",
   "id": "f5580a15",
   "metadata": {},
   "source": [
    "Dann validiere sie mittels Cross Validation:"
   ]
  },
  {
   "cell_type": "code",
   "execution_count": null,
   "id": "1a36a79d",
   "metadata": {},
   "outputs": [],
   "source": [
    "# Cross Validierung des Random Forest Modells mit den gewählten Hyperparametern\n",
    "start = timeit.default_timer() # timer\n",
    "model = RandomForestRegressor(**hyperpara, \n",
    "                              criterion=\"squared_error\",\n",
    "                              random_state=42) # Modell mit Hyperparameter\n",
    "n_scores = cross_val_score(model, x_train, y_train, scoring='neg_root_mean_squared_error', cv=10, n_jobs=-1)\n",
    "end = timeit.default_timer()\n",
    "\n",
    "# Model performance\n",
    "print(\"Random Forest scores\")\n",
    "print(f\"RMSE: {-np.mean(n_scores):.3f} ({np.std(-n_scores):.3f}°C), verbesserung zur Baseline: {-np.mean(baseline_scores) + np.mean(n_scores):.3f}°C\")\n",
    "print(f\"Laufzeit: {end - start:.2f} Sekunden\")"
   ]
  },
  {
   "cell_type": "markdown",
   "id": "76eb659e",
   "metadata": {},
   "source": [
    "Wir können auch die Vorhersage der Trainingsdaten betrachten nachdem wir mit allen Daten trainiert haben. Glaubst du das wir damit noch zusätzliche Information über die Vorhersagefähigkeit des Modells ermitteln können?"
   ]
  },
  {
   "cell_type": "code",
   "execution_count": null,
   "id": "972b96e9",
   "metadata": {},
   "outputs": [],
   "source": [
    "# Plot training Vorhersage\n",
    "sns.set_style(\"whitegrid\")\n",
    "plt.figure(figsize=(18,7))\n",
    "plt.title(\"Mittlere tägliche Wassertemperatur der Aschach\")\n",
    "\n",
    "# Training Daten\n",
    "plt.plot(train_data.index, train_data.wt, color= '#379BDB', label='Beobachtung')\n",
    "\n",
    "# Random Forest\n",
    "model.fit(x_train, y_train) # Model fit\n",
    "train_prediction = model.predict(x_train)\n",
    "train_prediction_df = pd.DataFrame({\"prediction\": train_prediction})\n",
    "train_prediction_df.index = train_data.index\n",
    "plt.plot(train_prediction_df.index, train_prediction_df.prediction, color='#18d30c', label='Random Forest')\n",
    "plt.xlabel('')\n",
    "plt.ylabel('Wassertemperatur [°C]')\n",
    "plt.legend()\n",
    "plt.show(block=False)"
   ]
  },
  {
   "cell_type": "markdown",
   "id": "e0ba4cf5",
   "metadata": {},
   "source": [
    "### 6.2 Modellgüte mit den Test Daten bestimmen"
   ]
  },
  {
   "cell_type": "code",
   "execution_count": null,
   "id": "5e72573d",
   "metadata": {},
   "outputs": [],
   "source": [
    "# Model fit und Vorhersage der Test Daten\n",
    "model.fit(x_train, y_train)\n",
    "prediction = model.predict(x_test)\n",
    "prediction_df = pd.DataFrame({\"prediction\": prediction})\n",
    "prediction_df.index = test_data.index\n",
    "print_results(test_data.wt, prediction, \"Random Forest\")"
   ]
  },
  {
   "cell_type": "code",
   "execution_count": null,
   "id": "ace10eb2",
   "metadata": {},
   "outputs": [],
   "source": [
    "# Verbesserung im Vergleich zum Baseline Modell\n",
    "rmse_red = RMSE(test_data.wt, baseline_prediction) - RMSE(test_data.wt, prediction)\n",
    "mae_red = MAE(test_data.wt, baseline_prediction) - MAE(test_data.wt, prediction)\n",
    "print(f\"RMSE Verbesserung im Vergleich zum Baseline Modell: {rmse_red:.3f} °C\")\n",
    "print(f\"MSE Verbesserung im Vergleich zum Baseline Modell: {mae_red:.3f} °C\")"
   ]
  },
  {
   "cell_type": "code",
   "execution_count": null,
   "id": "1734252f",
   "metadata": {},
   "outputs": [],
   "source": [
    "# Plot der Test Vorhersagen für ein Testjahr: Beobachtungen, Baseline & Random Forest\n",
    "jahr = 2014\n",
    "sns.set_style(\"whitegrid\")\n",
    "plt.figure(figsize=(18,7))\n",
    "plt.title(\"Mittlere tägliche Wassertemperatur der Aschach\")\n",
    "\n",
    "# Test Daten\n",
    "test_plot = test_data[test_data.index.year == jahr]\n",
    "plt.plot(test_plot.index, test_plot.wt, color= '#379BDB', label='Beobachtung')\n",
    "\n",
    "# Baseline Modell\n",
    "base_plot = baseline_prediction_df[baseline_prediction_df.index.year == jahr]\n",
    "plt.plot(base_plot.index, base_plot.prediction, color='#fc7d0b', label='Baseline Modell')\n",
    "\n",
    "# Random Forest\n",
    "pred_plot = prediction_df[prediction_df.index.year == jahr]\n",
    "plt.plot(pred_plot.index, pred_plot.prediction, color='#18d30c', label='Random Forest')\n",
    "plt.xlabel('')\n",
    "plt.ylabel('Wassertemperatur [°C]')\n",
    "plt.legend()\n",
    "plt.show(block=False)"
   ]
  },
  {
   "cell_type": "markdown",
   "id": "f70b63ca",
   "metadata": {},
   "source": [
    "#### Die besten Ergebisse:\n",
    "\n",
    "Diskussion + vergleichen der Ergebnisse\n"
   ]
  },
  {
   "cell_type": "markdown",
   "id": "5224c85f",
   "metadata": {},
   "source": [
    "## 7. Zweites ML Modell\n",
    "\n",
    "Wähle eines zweites ML Modell und wende es auf die Daten an. Alles ist erlaubt. Finde anhand der Beschreibungen ein passendes Modell für dieses (regressions Problem). Nutze dazu die Liste an Modellen in scikit-learn:</p>\n",
    "https://scikit-learn.org/stable/supervised_learning.html\n",
    "\n",
    "\n",
    "\n",
    "Als Hilfestellung findest du nachfolgend ein Template:"
   ]
  },
  {
   "cell_type": "code",
   "execution_count": null,
   "id": "25eb93de",
   "metadata": {},
   "outputs": [],
   "source": [
    "# Cross Validierung eines Modells \n",
    "start = timeit.default_timer() # timer\n",
    "\n",
    "# ----------------------------------------\n",
    "# Hier muss das Modell (und gegebenenfalls die Hyperparameter) definiert werden\n",
    "model2 = ...\n",
    "# ----------------------------------------\n",
    "\n",
    "# Cross Validierung des Modells\n",
    "n_scores = cross_val_score(model2, x_train, y_train, scoring='neg_root_mean_squared_error', cv=10, n_jobs=-1)\n",
    "end = timeit.default_timer()\n",
    "\n",
    "# Model performance\n",
    "print(f\"RMSE: {-np.mean(n_scores):.3f} ({np.std(-n_scores):.3f}), verbesserung zur Baseline: {-np.mean(baseline_scores) + np.mean(n_scores):.3f}°C\"))\n",
    "print(f\"Laufzeit: {end - start:.2f} Sekunden\")"
   ]
  },
  {
   "cell_type": "code",
   "execution_count": null,
   "id": "70c76295",
   "metadata": {},
   "outputs": [],
   "source": [
    "# Modell fit und Vorhersage der Test Daten\n",
    "model2.fit(x_train, y_train) # Model fit\n",
    "prediction2 = model2.predict(x_test)\n",
    "prediction2_df = pd.DataFrame({\"prediction\": prediction2})\n",
    "prediction2_df.index = test_data.index\n",
    "print_results(test_data.wt, prediction2, \"Alternativmodell\")"
   ]
  },
  {
   "cell_type": "code",
   "execution_count": null,
   "id": "c3b25cae",
   "metadata": {},
   "outputs": [],
   "source": [
    "# Verbesserung im Vergleich zum Baseline Modell\n",
    "rmse_red = RMSE(test_data.wt, baseline_prediction) - RMSE(test_data.wt, prediction2)\n",
    "mae_red = MAE(test_data.wt, baseline_prediction) - MAE(test_data.wt, prediction2)\n",
    "print(f\"RMSE Verbesserung im Vergleich zur Baseline: {rmse_red:.3f} °C\")\n",
    "print(f\"MSE Verbesserung im Vergleich zur Baseline: {mae_red:.3f} °C\")"
   ]
  },
  {
   "cell_type": "code",
   "execution_count": null,
   "id": "b88e95a9",
   "metadata": {},
   "outputs": [],
   "source": [
    "# Verbesserung im Vergleich zum Random Forest Modell\n",
    "rmse_red = RMSE(test_data.wt, prediction) - RMSE(test_data.wt, prediction2)\n",
    "mae_red = MAE(test_data.wt, prediction) - MAE(test_data.wt, prediction2)\n",
    "print(f\"RMSE Verbesserung im Vergleich zum Random Forest: {rmse_red:.3f} °C\")\n",
    "print(f\"MSE Verbesserung im Vergleich zum Random Forest: {mae_red:.3f} °C\")"
   ]
  },
  {
   "cell_type": "markdown",
   "id": "96d9e6e0",
   "metadata": {},
   "source": [
    "# 8. Evaluierung der Ergebnisse\n",
    "\n",
    "Gruppendiskussion:\n",
    "1. Welches Modell und welche Hyperparameter liefern die besten Ergebnisse?\n",
    "2. Wie könnten wir unsere Modellierung verbessern?\n"
   ]
  },
  {
   "cell_type": "markdown",
   "id": "91383739",
   "metadata": {},
   "source": [
    "Hier findest du die Ergebnisse unserer Publikation mit verschiedensten Modellen und Hyperparameteroptimierung:\n",
    "![Übersicht Aschach Ergebnisse (Feigl et al., 2021)](Abb/paper_results.png)\n",
    "*Übersicht Ergebnisse Feigl et al. (2021)*"
   ]
  }
 ],
 "metadata": {
  "kernelspec": {
   "display_name": "Python 3 (ipykernel)",
   "language": "python",
   "name": "python3"
  },
  "language_info": {
   "codemirror_mode": {
    "name": "ipython",
    "version": 3
   },
   "file_extension": ".py",
   "mimetype": "text/x-python",
   "name": "python",
   "nbconvert_exporter": "python",
   "pygments_lexer": "ipython3",
   "version": "3.9.12"
  }
 },
 "nbformat": 4,
 "nbformat_minor": 5
}
